{
 "cells": [
  {
   "cell_type": "markdown",
   "metadata": {},
   "source": [
    "# Data Loader"
   ]
  },
  {
   "cell_type": "code",
   "execution_count": 3,
   "metadata": {},
   "outputs": [],
   "source": [
    "from imutils import paths\n",
    "from pathlib import Path \n",
    "from matplotlib import pyplot as plt\n",
    "import numpy as np\n",
    "import argparse\n",
    "import cv2\n",
    "import os\n",
    "\n",
    "\n",
    "from torch.utils.data import Dataset, DataLoader\n",
    "from torchvision.transforms import Resize\n",
    "import glob\n",
    "import os\n",
    "import numpy as np\n",
    "import cv2\n",
    "import torch\n",
    "from torchvision import transforms, utils\n",
    "from PIL import Image"
   ]
  },
  {
   "cell_type": "code",
   "execution_count": 4,
   "metadata": {},
   "outputs": [],
   "source": [
    "class SegDataset(Dataset):\n",
    "    \"\"\"Segmentation Dataset\"\"\"\n",
    "\n",
    "    def __init__(\n",
    "        self, \n",
    "        root_dir, \n",
    "        imageFolder, \n",
    "        maskFolder, \n",
    "        transform=None, \n",
    "        seed=None, \n",
    "        fraction=None, \n",
    "        subset=None, \n",
    "        imagecolormode='rgb', \n",
    "        maskcolormode='rgb'\n",
    "    ):\n",
    "        \"\"\"\n",
    "        Args:\n",
    "            root_dir (string): Directory with all the images and should have the following structure.\n",
    "            root\n",
    "            --Images\n",
    "            -----Img 1\n",
    "            -----Img N\n",
    "            --Mask\n",
    "            -----Mask 1\n",
    "            -----Mask N\n",
    "            imageFolder (string) = 'Images' : Name of the folder which contains the Images.\n",
    "            maskFolder (string)  = 'Masks : Name of the folder which contains the Masks.\n",
    "            transform (callable, optional): Optional transform to be applied on a sample.\n",
    "            seed: Specify a seed for the train and test split\n",
    "            fraction: A float value from 0 to 1 which specifies the validation split fraction\n",
    "            subset: 'Train' or 'Test' to select the appropriate set.\n",
    "            imagecolormode: 'rgb' or 'grayscale'\n",
    "            maskcolormode: 'rgb' or 'grayscale'\n",
    "        \"\"\"\n",
    "        self.color_dict = {'rgb': 1, 'grayscale': 0}\n",
    "        assert(imagecolormode in ['rgb', 'grayscale'])\n",
    "        assert(maskcolormode in ['rgb', 'grayscale'])\n",
    "\n",
    "        self.imagecolorflag = self.color_dict[imagecolormode]\n",
    "        self.maskcolorflag = self.color_dict[maskcolormode]\n",
    "        self.root_dir = root_dir\n",
    "        self.transform = transform\n",
    "        if not fraction:\n",
    "            self.image_names = sorted(\n",
    "                glob.glob(os.path.join(self.root_dir, imageFolder, '*')))\n",
    "            self.mask_names = sorted(\n",
    "                glob.glob(os.path.join(self.root_dir, maskFolder, '*')))\n",
    "        else:\n",
    "            assert(subset in ['Train', 'Test'])\n",
    "            self.fraction = fraction\n",
    "            self.image_list = np.array(\n",
    "                sorted(glob.glob(os.path.join(self.root_dir, imageFolder, '*'))))\n",
    "            self.mask_list = np.array(\n",
    "                sorted(glob.glob(os.path.join(self.root_dir, maskFolder, '*'))))\n",
    "            if seed:\n",
    "                np.random.seed(seed)\n",
    "                indices = np.arange(len(self.image_list))\n",
    "                np.random.shuffle(indices)\n",
    "                self.image_list = self.image_list[indices]\n",
    "                self.mask_list = self.mask_list[indices]\n",
    "            if subset == 'Train':\n",
    "                self.image_names = self.image_list[:int(\n",
    "                    np.ceil(len(self.image_list)*(1-self.fraction)))]\n",
    "                self.mask_names = self.mask_list[:int(\n",
    "                    np.ceil(len(self.mask_list)*(1-self.fraction)))]\n",
    "            else:\n",
    "                self.image_names = self.image_list[int(\n",
    "                    np.ceil(len(self.image_list)*(1-self.fraction))):]\n",
    "                self.mask_names = self.mask_list[int(\n",
    "                    np.ceil(len(self.mask_list)*(1-self.fraction))):]\n",
    "\n",
    "    def __len__(self):\n",
    "        return len(self.image_names)\n",
    "\n",
    "    def __getitem__(self, idx):\n",
    "        img_name = self.image_names[idx]\n",
    "        if self.imagecolorflag:\n",
    "            image = cv2.imread(\n",
    "                img_name, self.imagecolorflag)\n",
    "        else:\n",
    "            image = cv2.imread(img_name, self.imagecolorflag)\n",
    "        \n",
    "        msk_name = self.mask_names[idx]\n",
    "        if self.maskcolorflag:\n",
    "            mask = cv2.imread(msk_name, self.maskcolorflag)\n",
    "        else:\n",
    "            mask = cv2.imread(msk_name, self.maskcolorflag)\n",
    "        \n",
    "\n",
    "        #image = Image.open(img_name)\n",
    "        #mask = Image.open()\n",
    "     \n",
    "        sample = {'image': image, 'mask': mask}\n",
    "\n",
    "        if self.transform:\n",
    "            image = self.transform(image)\n",
    "            mask = self.transform(mask)\n",
    "\n",
    "        return {'image': image, 'mask': mask}\n",
    "\n",
    "\n",
    "class ToTensor(object):\n",
    "    \"\"\"Convert ndarrays in sample to Tensors.\"\"\"\n",
    "\n",
    "    def __call__(self, sample, maskresize=None, imageresize=None):\n",
    "        image, mask = sample['image'], sample['mask']\n",
    "        if len(mask.shape) == 2:\n",
    "            mask = mask.reshape((1,)+mask.shape)\n",
    "        if len(image.shape) == 2:\n",
    "            image = image.reshape((1,)+image.shape)\n",
    "        return {'image': torch.from_numpy(image),\n",
    "                'mask': torch.from_numpy(mask)}\n",
    "\n",
    "\n",
    "class Normalize(object):\n",
    "    \"\"\"Normalize image\"\"\"\n",
    "\n",
    "    def __call__(self, sample):\n",
    "        image, mask = sample['image'], sample['mask']\n",
    "        return {'image': image.type(torch.FloatTensor)/255,\n",
    "                'mask': mask.type(torch.FloatTensor)/255}\n",
    "\n",
    "\n",
    "def get_dataloader_single_folder(data_dir, imageFolder='Images', maskFolder='Masks', fraction=0.2, batch_size=4):\n",
    "    \"\"\"Create training and testing dataloaders from a single folder.\"\"\"\n",
    "    data_transforms = {\n",
    "        'Train': transforms.Compose([\n",
    "            transforms.ToPILImage(), \n",
    "            Resize((256, 256)), \n",
    "            transforms.ToTensor(), \n",
    "            transforms.Normalize(0,1)\n",
    "        ]),\n",
    "        'Test': transforms.Compose([\n",
    "            transforms.ToPILImage(), \n",
    "            Resize((256, 256)), \n",
    "            transforms.ToTensor(), \n",
    "            transforms.Normalize(0,1)\n",
    "        ]),\n",
    "    }\n",
    "\n",
    "    image_datasets = {\n",
    "        x: SegDataset(\n",
    "            data_dir, \n",
    "            imageFolder=imageFolder, \n",
    "            maskFolder=maskFolder, \n",
    "            seed=100, \n",
    "            fraction=fraction, \n",
    "            subset=x, \n",
    "            transform=data_transforms[x]\n",
    "        ) for x in ['Train', 'Test']\n",
    "    }\n",
    "    dataloaders = {x: DataLoader(image_datasets[x], batch_size=batch_size,\n",
    "                                 shuffle=True, num_workers=8)\n",
    "                   for x in ['Train', 'Test']}\n",
    "    return dataloaders"
   ]
  },
  {
   "cell_type": "code",
   "execution_count": 3,
   "metadata": {},
   "outputs": [],
   "source": [
    "dataloaders = get_dataloader_single_folder(\n",
    "    data_dir=\"../data/finetune\", \n",
    "    imageFolder='images', \n",
    "    maskFolder='masks', \n",
    "    fraction=0.2, \n",
    "    batch_size=4,\n",
    ")"
   ]
  },
  {
   "cell_type": "markdown",
   "metadata": {},
   "source": [
    "# Model Building"
   ]
  },
  {
   "cell_type": "code",
   "execution_count": 4,
   "metadata": {},
   "outputs": [],
   "source": [
    "from torchvision import models\n",
    "from torchvision.models.segmentation.deeplabv3 import DeepLabHead"
   ]
  },
  {
   "cell_type": "code",
   "execution_count": 5,
   "metadata": {},
   "outputs": [
    {
     "name": "stderr",
     "output_type": "stream",
     "text": [
      "/home/adam13/miniconda3/envs/torch/lib/python3.11/site-packages/torchvision/models/_utils.py:208: UserWarning: The parameter 'pretrained' is deprecated since 0.13 and may be removed in the future, please use 'weights' instead.\n",
      "  warnings.warn(\n",
      "/home/adam13/miniconda3/envs/torch/lib/python3.11/site-packages/torchvision/models/_utils.py:223: UserWarning: Arguments other than a weight enum or `None` for 'weights' are deprecated since 0.13 and may be removed in the future. The current behavior is equivalent to passing `weights=DeepLabV3_ResNet101_Weights.COCO_WITH_VOC_LABELS_V1`. You can also use `weights=DeepLabV3_ResNet101_Weights.DEFAULT` to get the most up-to-date weights.\n",
      "  warnings.warn(msg)\n"
     ]
    }
   ],
   "source": [
    "def createDeepLabv3(outputchannels=1):\n",
    "    model = models.segmentation.deeplabv3_resnet101(\n",
    "        pretrained=True, progress=True)\n",
    "    # Added a Tanh activation after the last convolution layer\n",
    "    model.classifier = DeepLabHead(2048, outputchannels)\n",
    "    # Set the model in training mode\n",
    "    model.train()\n",
    "    return model\n",
    "\n",
    "\n",
    "model = createDeepLabv3(3)"
   ]
  },
  {
   "cell_type": "markdown",
   "metadata": {},
   "source": [
    "# Finetune"
   ]
  },
  {
   "cell_type": "code",
   "execution_count": 6,
   "metadata": {},
   "outputs": [],
   "source": [
    "import csv\n",
    "import copy\n",
    "import time\n",
    "from tqdm import tqdm\n",
    "import torch\n",
    "import numpy as np\n",
    "import os\n",
    "\n",
    "from sklearn.metrics import f1_score, roc_auc_score\n"
   ]
  },
  {
   "cell_type": "code",
   "execution_count": 7,
   "metadata": {},
   "outputs": [],
   "source": [
    "def train_model(model, criterion, dataloaders, optimizer, metrics, bpath, num_epochs=3):\n",
    "    since = time.time()\n",
    "    best_model_wts = copy.deepcopy(model.state_dict())\n",
    "    best_loss = 1e10\n",
    "    # Use gpu if available\n",
    "    device = torch.device(\"cuda:0\" if torch.cuda.is_available() else \"cpu\")\n",
    "    model.to(device)\n",
    "    # Initialize the log file for training and testing loss and metrics\n",
    "    fieldnames = ['epoch', 'Train_loss', 'Test_loss'] + \\\n",
    "        [f'Train_{m}' for m in metrics.keys()] + \\\n",
    "        [f'Test_{m}' for m in metrics.keys()]\n",
    "    with open(os.path.join(bpath, 'log.csv'), 'w', newline='') as csvfile:\n",
    "        writer = csv.DictWriter(csvfile, fieldnames=fieldnames)\n",
    "        writer.writeheader()\n",
    "\n",
    "    for epoch in range(1, num_epochs+1):\n",
    "        print('Epoch {}/{}'.format(epoch, num_epochs))\n",
    "        print('-' * 10)\n",
    "        # Each epoch has a training and validation phase\n",
    "        # Initialize batch summary\n",
    "        batchsummary = {a: [0] for a in fieldnames}\n",
    "\n",
    "        for phase in ['Train', 'Test']:\n",
    "            if phase == 'Train':\n",
    "                model.train()  # Set model to training mode\n",
    "            else:\n",
    "                model.eval()   # Set model to evaluate mode\n",
    "\n",
    "            # Iterate over data.\n",
    "            for sample in tqdm(iter(dataloaders[phase])):\n",
    "                inputs = sample['image'].to(device)\n",
    "                masks = sample['mask'].to(device)\n",
    "                # zero the parameter gradients\n",
    "                optimizer.zero_grad()\n",
    "\n",
    "                # track history if only in train\n",
    "                with torch.set_grad_enabled(phase == 'Train'):\n",
    "                    outputs = model(inputs)\n",
    "                    loss = criterion(outputs['out'], masks)\n",
    "                    y_pred = outputs['out'].data.cpu().numpy().ravel()\n",
    "                    y_true = masks.data.cpu().numpy().ravel()\n",
    "                    for name, metric in metrics.items():\n",
    "                        if name == 'f1_score':\n",
    "                            # Use a classification threshold of 0.1\n",
    "                            batchsummary[f'{phase}_{name}'].append(\n",
    "                                metric(y_true > 0, y_pred > 0.1))\n",
    "                        else:\n",
    "                            batchsummary[f'{phase}_{name}'].append(\n",
    "                                metric(y_true.astype('uint8'), y_pred))\n",
    "\n",
    "                    # backward + optimize only if in training phase\n",
    "                    if phase == 'Train':\n",
    "                        loss.backward()\n",
    "                        optimizer.step()\n",
    "            batchsummary['epoch'] = epoch\n",
    "            epoch_loss = loss\n",
    "            batchsummary[f'{phase}_loss'] = epoch_loss.item()\n",
    "            print('{} Loss: {:.4f}'.format(\n",
    "                phase, loss))\n",
    "        for field in fieldnames[3:]:\n",
    "            batchsummary[field] = np.mean(batchsummary[field])\n",
    "        print(batchsummary)\n",
    "        with open(os.path.join(bpath, 'log.csv'), 'a', newline='') as csvfile:\n",
    "            writer = csv.DictWriter(csvfile, fieldnames=fieldnames)\n",
    "            writer.writerow(batchsummary)\n",
    "            # deep copy the model\n",
    "            if phase == 'Test' and loss < best_loss:\n",
    "                best_loss = loss\n",
    "                best_model_wts = copy.deepcopy(model.state_dict())\n",
    "\n",
    "    time_elapsed = time.time() - since\n",
    "    print('Training complete in {:.0f}m {:.0f}s'.format(\n",
    "        time_elapsed // 60, time_elapsed % 60))\n",
    "    print('Lowest Loss: {:4f}'.format(best_loss))\n",
    "\n",
    "    # load best model weights\n",
    "    model.load_state_dict(best_model_wts)\n",
    "    return model"
   ]
  },
  {
   "cell_type": "code",
   "execution_count": 8,
   "metadata": {},
   "outputs": [
    {
     "name": "stdout",
     "output_type": "stream",
     "text": [
      "Epoch 1/25\n",
      "----------\n"
     ]
    },
    {
     "name": "stderr",
     "output_type": "stream",
     "text": [
      "100%|██████████| 653/653 [05:01<00:00,  2.17it/s]"
     ]
    },
    {
     "name": "stdout",
     "output_type": "stream",
     "text": [
      "Train Loss: 0.0636\n"
     ]
    },
    {
     "name": "stderr",
     "output_type": "stream",
     "text": [
      "\n",
      "100%|██████████| 163/163 [00:57<00:00,  2.86it/s]"
     ]
    },
    {
     "name": "stdout",
     "output_type": "stream",
     "text": [
      "Test Loss: 0.0449\n",
      "{'epoch': 1, 'Train_loss': 0.06356216967105865, 'Test_loss': 0.04493154212832451, 'Train_f1_score': 0.7226524072023118, 'Train_auroc': 0.9257491828273825, 'Test_f1_score': 0.8184593609955575, 'Test_auroc': 0.9484445226694365}\n",
      "Epoch 2/25\n",
      "----------\n"
     ]
    },
    {
     "name": "stderr",
     "output_type": "stream",
     "text": [
      "\n",
      "100%|██████████| 653/653 [04:53<00:00,  2.22it/s]"
     ]
    },
    {
     "name": "stdout",
     "output_type": "stream",
     "text": [
      "Train Loss: 0.0187\n"
     ]
    },
    {
     "name": "stderr",
     "output_type": "stream",
     "text": [
      "\n",
      "100%|██████████| 163/163 [00:57<00:00,  2.84it/s]"
     ]
    },
    {
     "name": "stdout",
     "output_type": "stream",
     "text": [
      "Test Loss: 0.0161\n",
      "{'epoch': 2, 'Train_loss': 0.018674857914447784, 'Test_loss': 0.01612965390086174, 'Train_f1_score': 0.7908194230599062, 'Train_auroc': 0.9562250328313125, 'Test_f1_score': 0.8209721159161227, 'Test_auroc': 0.9526583523284339}\n",
      "Epoch 3/25\n",
      "----------\n"
     ]
    },
    {
     "name": "stderr",
     "output_type": "stream",
     "text": [
      "\n",
      "100%|██████████| 653/653 [04:52<00:00,  2.23it/s]"
     ]
    },
    {
     "name": "stdout",
     "output_type": "stream",
     "text": [
      "Train Loss: 0.0369\n"
     ]
    },
    {
     "name": "stderr",
     "output_type": "stream",
     "text": [
      "\n",
      "100%|██████████| 163/163 [00:57<00:00,  2.84it/s]"
     ]
    },
    {
     "name": "stdout",
     "output_type": "stream",
     "text": [
      "Test Loss: 0.0973\n",
      "{'epoch': 3, 'Train_loss': 0.036896757781505585, 'Test_loss': 0.09726639091968536, 'Train_f1_score': 0.820811037790332, 'Train_auroc': 0.9658890457649096, 'Test_f1_score': 0.8067105252059175, 'Test_auroc': 0.9536594820598772}\n",
      "Epoch 4/25\n",
      "----------\n"
     ]
    },
    {
     "name": "stderr",
     "output_type": "stream",
     "text": [
      "\n",
      "100%|██████████| 653/653 [04:52<00:00,  2.23it/s]"
     ]
    },
    {
     "name": "stdout",
     "output_type": "stream",
     "text": [
      "Train Loss: 0.0441\n"
     ]
    },
    {
     "name": "stderr",
     "output_type": "stream",
     "text": [
      "\n",
      "100%|██████████| 163/163 [00:57<00:00,  2.85it/s]"
     ]
    },
    {
     "name": "stdout",
     "output_type": "stream",
     "text": [
      "Test Loss: 0.0439\n",
      "{'epoch': 4, 'Train_loss': 0.044059135019779205, 'Test_loss': 0.043930232524871826, 'Train_f1_score': 0.8345720498227323, 'Train_auroc': 0.9678078974524844, 'Test_f1_score': 0.8352400630482794, 'Test_auroc': 0.9538793580500065}\n",
      "Epoch 5/25\n",
      "----------\n"
     ]
    },
    {
     "name": "stderr",
     "output_type": "stream",
     "text": [
      "\n",
      "100%|██████████| 653/653 [04:52<00:00,  2.23it/s]"
     ]
    },
    {
     "name": "stdout",
     "output_type": "stream",
     "text": [
      "Train Loss: 0.0438\n"
     ]
    },
    {
     "name": "stderr",
     "output_type": "stream",
     "text": [
      "\n",
      "100%|██████████| 163/163 [00:57<00:00,  2.82it/s]"
     ]
    },
    {
     "name": "stdout",
     "output_type": "stream",
     "text": [
      "Test Loss: 0.0234\n",
      "{'epoch': 5, 'Train_loss': 0.043825116008520126, 'Test_loss': 0.02343893051147461, 'Train_f1_score': 0.8519529020545927, 'Train_auroc': 0.9724638031054111, 'Test_f1_score': 0.8061088489591394, 'Test_auroc': 0.9589762802995786}\n",
      "Epoch 6/25\n",
      "----------\n"
     ]
    },
    {
     "name": "stderr",
     "output_type": "stream",
     "text": [
      "\n",
      "100%|██████████| 653/653 [04:58<00:00,  2.19it/s]"
     ]
    },
    {
     "name": "stdout",
     "output_type": "stream",
     "text": [
      "Train Loss: 0.0226\n"
     ]
    },
    {
     "name": "stderr",
     "output_type": "stream",
     "text": [
      "\n",
      "100%|██████████| 163/163 [00:58<00:00,  2.81it/s]"
     ]
    },
    {
     "name": "stdout",
     "output_type": "stream",
     "text": [
      "Test Loss: 0.0287\n",
      "{'epoch': 6, 'Train_loss': 0.022572968155145645, 'Test_loss': 0.028694763779640198, 'Train_f1_score': 0.861944693270857, 'Train_auroc': 0.9735314870522458, 'Test_f1_score': 0.837543464055874, 'Test_auroc': 0.9554747315930282}\n",
      "Epoch 7/25\n",
      "----------\n"
     ]
    },
    {
     "name": "stderr",
     "output_type": "stream",
     "text": [
      "\n",
      "100%|██████████| 653/653 [04:52<00:00,  2.23it/s]"
     ]
    },
    {
     "name": "stdout",
     "output_type": "stream",
     "text": [
      "Train Loss: 0.0121\n"
     ]
    },
    {
     "name": "stderr",
     "output_type": "stream",
     "text": [
      "\n",
      "100%|██████████| 163/163 [00:58<00:00,  2.80it/s]"
     ]
    },
    {
     "name": "stdout",
     "output_type": "stream",
     "text": [
      "Test Loss: 0.0177\n",
      "{'epoch': 7, 'Train_loss': 0.012142149731516838, 'Test_loss': 0.01768670603632927, 'Train_f1_score': 0.8754078657091533, 'Train_auroc': 0.9758756535579514, 'Test_f1_score': 0.8316998670723633, 'Test_auroc': 0.9596749174205109}\n",
      "Epoch 8/25\n",
      "----------\n"
     ]
    },
    {
     "name": "stderr",
     "output_type": "stream",
     "text": [
      "\n",
      "100%|██████████| 653/653 [04:53<00:00,  2.23it/s]"
     ]
    },
    {
     "name": "stdout",
     "output_type": "stream",
     "text": [
      "Train Loss: 0.0364\n"
     ]
    },
    {
     "name": "stderr",
     "output_type": "stream",
     "text": [
      "\n",
      "100%|██████████| 163/163 [00:57<00:00,  2.82it/s]"
     ]
    },
    {
     "name": "stdout",
     "output_type": "stream",
     "text": [
      "Test Loss: 0.0383\n",
      "{'epoch': 8, 'Train_loss': 0.03642294928431511, 'Test_loss': 0.03828275203704834, 'Train_f1_score': 0.8881357760183454, 'Train_auroc': 0.9771069092267705, 'Test_f1_score': 0.8273260632092466, 'Test_auroc': 0.9245838735113513}\n",
      "Epoch 9/25\n",
      "----------\n"
     ]
    },
    {
     "name": "stderr",
     "output_type": "stream",
     "text": [
      "\n",
      "100%|██████████| 653/653 [04:52<00:00,  2.23it/s]"
     ]
    },
    {
     "name": "stdout",
     "output_type": "stream",
     "text": [
      "Train Loss: 0.0394\n"
     ]
    },
    {
     "name": "stderr",
     "output_type": "stream",
     "text": [
      "\n",
      "100%|██████████| 163/163 [00:58<00:00,  2.80it/s]"
     ]
    },
    {
     "name": "stdout",
     "output_type": "stream",
     "text": [
      "Test Loss: 0.0448\n",
      "{'epoch': 9, 'Train_loss': 0.03937589004635811, 'Test_loss': 0.04476892203092575, 'Train_f1_score': 0.8892190818440037, 'Train_auroc': 0.9768335956661912, 'Test_f1_score': 0.8381833120345323, 'Test_auroc': 0.9509235848304052}\n",
      "Epoch 10/25\n",
      "----------\n"
     ]
    },
    {
     "name": "stderr",
     "output_type": "stream",
     "text": [
      "\n",
      "100%|██████████| 653/653 [04:55<00:00,  2.21it/s]"
     ]
    },
    {
     "name": "stdout",
     "output_type": "stream",
     "text": [
      "Train Loss: 0.0252\n"
     ]
    },
    {
     "name": "stderr",
     "output_type": "stream",
     "text": [
      "\n",
      "100%|██████████| 163/163 [00:57<00:00,  2.82it/s]"
     ]
    },
    {
     "name": "stdout",
     "output_type": "stream",
     "text": [
      "Test Loss: 0.0294\n",
      "{'epoch': 10, 'Train_loss': 0.025221897289156914, 'Test_loss': 0.02937166392803192, 'Train_f1_score': 0.8953305468587764, 'Train_auroc': 0.9780658249243547, 'Test_f1_score': 0.8404912098431416, 'Test_auroc': 0.9588236282629015}\n",
      "Epoch 11/25\n",
      "----------\n"
     ]
    },
    {
     "name": "stderr",
     "output_type": "stream",
     "text": [
      "\n",
      "100%|██████████| 653/653 [04:56<00:00,  2.20it/s]"
     ]
    },
    {
     "name": "stdout",
     "output_type": "stream",
     "text": [
      "Train Loss: 0.0177\n"
     ]
    },
    {
     "name": "stderr",
     "output_type": "stream",
     "text": [
      "\n",
      "100%|██████████| 163/163 [00:57<00:00,  2.82it/s]"
     ]
    },
    {
     "name": "stdout",
     "output_type": "stream",
     "text": [
      "Test Loss: 0.0088\n",
      "{'epoch': 11, 'Train_loss': 0.01766938343644142, 'Test_loss': 0.00876579713076353, 'Train_f1_score': 0.9052445757469846, 'Train_auroc': 0.9796665907381634, 'Test_f1_score': 0.8400684333975882, 'Test_auroc': 0.9615650214943406}\n",
      "Epoch 12/25\n",
      "----------\n"
     ]
    },
    {
     "name": "stderr",
     "output_type": "stream",
     "text": [
      "\n",
      "100%|██████████| 653/653 [04:54<00:00,  2.22it/s]"
     ]
    },
    {
     "name": "stdout",
     "output_type": "stream",
     "text": [
      "Train Loss: 0.0147\n"
     ]
    },
    {
     "name": "stderr",
     "output_type": "stream",
     "text": [
      "\n",
      "100%|██████████| 163/163 [00:58<00:00,  2.80it/s]"
     ]
    },
    {
     "name": "stdout",
     "output_type": "stream",
     "text": [
      "Test Loss: 0.0160\n",
      "{'epoch': 12, 'Train_loss': 0.014712727628648281, 'Test_loss': 0.01597316935658455, 'Train_f1_score': 0.9087632779411896, 'Train_auroc': 0.9809703931206258, 'Test_f1_score': 0.8342127083663096, 'Test_auroc': 0.9606935595109282}\n",
      "Epoch 13/25\n",
      "----------\n"
     ]
    },
    {
     "name": "stderr",
     "output_type": "stream",
     "text": [
      "\n",
      "100%|██████████| 653/653 [04:53<00:00,  2.23it/s]"
     ]
    },
    {
     "name": "stdout",
     "output_type": "stream",
     "text": [
      "Train Loss: 0.0117\n"
     ]
    },
    {
     "name": "stderr",
     "output_type": "stream",
     "text": [
      "\n",
      "100%|██████████| 163/163 [00:57<00:00,  2.81it/s]"
     ]
    },
    {
     "name": "stdout",
     "output_type": "stream",
     "text": [
      "Test Loss: 0.0269\n",
      "{'epoch': 13, 'Train_loss': 0.011746887117624283, 'Test_loss': 0.026916004717350006, 'Train_f1_score': 0.9133103067259738, 'Train_auroc': 0.9820215654762912, 'Test_f1_score': 0.8379247927747723, 'Test_auroc': 0.9586585123197864}\n",
      "Epoch 14/25\n",
      "----------\n"
     ]
    },
    {
     "name": "stderr",
     "output_type": "stream",
     "text": [
      "\n",
      "100%|██████████| 653/653 [04:53<00:00,  2.23it/s]"
     ]
    },
    {
     "name": "stdout",
     "output_type": "stream",
     "text": [
      "Train Loss: 0.0218\n"
     ]
    },
    {
     "name": "stderr",
     "output_type": "stream",
     "text": [
      "\n",
      "100%|██████████| 163/163 [00:58<00:00,  2.79it/s]"
     ]
    },
    {
     "name": "stdout",
     "output_type": "stream",
     "text": [
      "Test Loss: 0.0200\n",
      "{'epoch': 14, 'Train_loss': 0.02175034023821354, 'Test_loss': 0.019955886527895927, 'Train_f1_score': 0.919627039669785, 'Train_auroc': 0.9827891777056603, 'Test_f1_score': 0.840058397921966, 'Test_auroc': 0.961306546686529}\n",
      "Epoch 15/25\n",
      "----------\n"
     ]
    },
    {
     "name": "stderr",
     "output_type": "stream",
     "text": [
      "\n",
      "100%|██████████| 653/653 [04:57<00:00,  2.20it/s]"
     ]
    },
    {
     "name": "stdout",
     "output_type": "stream",
     "text": [
      "Train Loss: 0.0319\n"
     ]
    },
    {
     "name": "stderr",
     "output_type": "stream",
     "text": [
      "\n",
      "100%|██████████| 163/163 [00:58<00:00,  2.80it/s]"
     ]
    },
    {
     "name": "stdout",
     "output_type": "stream",
     "text": [
      "Test Loss: 0.0377\n",
      "{'epoch': 15, 'Train_loss': 0.03185012564063072, 'Test_loss': 0.03766867145895958, 'Train_f1_score': 0.8965622659538065, 'Train_auroc': 0.9764089502912847, 'Test_f1_score': 0.8274853427408931, 'Test_auroc': 0.9541656986323461}\n",
      "Epoch 16/25\n",
      "----------\n"
     ]
    },
    {
     "name": "stderr",
     "output_type": "stream",
     "text": [
      "\n",
      "100%|██████████| 653/653 [04:51<00:00,  2.24it/s]"
     ]
    },
    {
     "name": "stdout",
     "output_type": "stream",
     "text": [
      "Train Loss: 0.0147\n"
     ]
    },
    {
     "name": "stderr",
     "output_type": "stream",
     "text": [
      "\n",
      "100%|██████████| 163/163 [00:59<00:00,  2.76it/s]"
     ]
    },
    {
     "name": "stdout",
     "output_type": "stream",
     "text": [
      "Test Loss: 0.0334\n",
      "{'epoch': 16, 'Train_loss': 0.01474085170775652, 'Test_loss': 0.03338506072759628, 'Train_f1_score': 0.9135169727049003, 'Train_auroc': 0.9816227638936899, 'Test_f1_score': 0.8281291396991061, 'Test_auroc': 0.9610895855656866}\n",
      "Epoch 17/25\n",
      "----------\n"
     ]
    },
    {
     "name": "stderr",
     "output_type": "stream",
     "text": [
      "\n",
      "100%|██████████| 653/653 [04:51<00:00,  2.24it/s]"
     ]
    },
    {
     "name": "stdout",
     "output_type": "stream",
     "text": [
      "Train Loss: 0.0104\n"
     ]
    },
    {
     "name": "stderr",
     "output_type": "stream",
     "text": [
      "\n",
      "100%|██████████| 163/163 [00:59<00:00,  2.74it/s]"
     ]
    },
    {
     "name": "stdout",
     "output_type": "stream",
     "text": [
      "Test Loss: 0.0215\n",
      "{'epoch': 17, 'Train_loss': 0.010396669618785381, 'Test_loss': 0.02145036682486534, 'Train_f1_score': 0.9285131263378966, 'Train_auroc': 0.9846082869686358, 'Test_f1_score': 0.8391598537635762, 'Test_auroc': 0.9576599360456448}\n",
      "Epoch 18/25\n",
      "----------\n"
     ]
    },
    {
     "name": "stderr",
     "output_type": "stream",
     "text": [
      "\n",
      "100%|██████████| 653/653 [04:56<00:00,  2.20it/s]"
     ]
    },
    {
     "name": "stdout",
     "output_type": "stream",
     "text": [
      "Train Loss: 0.0174\n"
     ]
    },
    {
     "name": "stderr",
     "output_type": "stream",
     "text": [
      "\n",
      "100%|██████████| 163/163 [00:59<00:00,  2.75it/s]"
     ]
    },
    {
     "name": "stdout",
     "output_type": "stream",
     "text": [
      "Test Loss: 0.0187\n",
      "{'epoch': 18, 'Train_loss': 0.017352640628814697, 'Test_loss': 0.018727993592619896, 'Train_f1_score': 0.9304028827301775, 'Train_auroc': 0.9852561639614947, 'Test_f1_score': 0.8438165579974236, 'Test_auroc': 0.9641127656406928}\n",
      "Epoch 19/25\n",
      "----------\n"
     ]
    },
    {
     "name": "stderr",
     "output_type": "stream",
     "text": [
      "\n",
      "100%|██████████| 653/653 [04:51<00:00,  2.24it/s]"
     ]
    },
    {
     "name": "stdout",
     "output_type": "stream",
     "text": [
      "Train Loss: 0.0098\n"
     ]
    },
    {
     "name": "stderr",
     "output_type": "stream",
     "text": [
      "\n",
      "100%|██████████| 163/163 [00:59<00:00,  2.75it/s]"
     ]
    },
    {
     "name": "stdout",
     "output_type": "stream",
     "text": [
      "Test Loss: 0.0153\n",
      "{'epoch': 19, 'Train_loss': 0.009772677905857563, 'Test_loss': 0.01527654193341732, 'Train_f1_score': 0.9331328238498654, 'Train_auroc': 0.9863052383566943, 'Test_f1_score': 0.8503587415423943, 'Test_auroc': 0.9613853139519516}\n",
      "Epoch 20/25\n",
      "----------\n"
     ]
    },
    {
     "name": "stderr",
     "output_type": "stream",
     "text": [
      "\n",
      "100%|██████████| 653/653 [04:44<00:00,  2.29it/s]"
     ]
    },
    {
     "name": "stdout",
     "output_type": "stream",
     "text": [
      "Train Loss: 0.0186\n"
     ]
    },
    {
     "name": "stderr",
     "output_type": "stream",
     "text": [
      "\n",
      "100%|██████████| 163/163 [00:58<00:00,  2.77it/s]"
     ]
    },
    {
     "name": "stdout",
     "output_type": "stream",
     "text": [
      "Test Loss: 0.0206\n",
      "{'epoch': 20, 'Train_loss': 0.0185573548078537, 'Test_loss': 0.020606540143489838, 'Train_f1_score': 0.9136640520099045, 'Train_auroc': 0.9817364194726912, 'Test_f1_score': 0.8404384410561755, 'Test_auroc': 0.9540761995392221}\n",
      "Epoch 21/25\n",
      "----------\n"
     ]
    },
    {
     "name": "stderr",
     "output_type": "stream",
     "text": [
      "\n",
      "100%|██████████| 653/653 [04:44<00:00,  2.29it/s]"
     ]
    },
    {
     "name": "stdout",
     "output_type": "stream",
     "text": [
      "Train Loss: 0.0138\n"
     ]
    },
    {
     "name": "stderr",
     "output_type": "stream",
     "text": [
      "\n",
      "100%|██████████| 163/163 [00:58<00:00,  2.76it/s]"
     ]
    },
    {
     "name": "stdout",
     "output_type": "stream",
     "text": [
      "Test Loss: 0.0210\n",
      "{'epoch': 21, 'Train_loss': 0.013798441737890244, 'Test_loss': 0.02101224660873413, 'Train_f1_score': 0.9215775334427376, 'Train_auroc': 0.9832872476401656, 'Test_f1_score': 0.8523651955511651, 'Test_auroc': 0.9523877052165038}\n",
      "Epoch 22/25\n",
      "----------\n"
     ]
    },
    {
     "name": "stderr",
     "output_type": "stream",
     "text": [
      "\n",
      "100%|██████████| 653/653 [6:41:34<00:00, 36.90s/it]      "
     ]
    },
    {
     "name": "stdout",
     "output_type": "stream",
     "text": [
      "Train Loss: 0.0081\n"
     ]
    },
    {
     "name": "stderr",
     "output_type": "stream",
     "text": [
      "\n",
      "100%|██████████| 163/163 [01:07<00:00,  2.42it/s]"
     ]
    },
    {
     "name": "stdout",
     "output_type": "stream",
     "text": [
      "Test Loss: 0.0270\n",
      "{'epoch': 22, 'Train_loss': 0.008078542537987232, 'Test_loss': 0.026981808245182037, 'Train_f1_score': 0.9343640288515888, 'Train_auroc': 0.9863842794170332, 'Test_f1_score': 0.8470559819324415, 'Test_auroc': 0.9596383356316665}\n",
      "Epoch 23/25\n",
      "----------\n"
     ]
    },
    {
     "name": "stderr",
     "output_type": "stream",
     "text": [
      "\n",
      "100%|██████████| 653/653 [05:01<00:00,  2.17it/s]"
     ]
    },
    {
     "name": "stdout",
     "output_type": "stream",
     "text": [
      "Train Loss: 0.0077\n"
     ]
    },
    {
     "name": "stderr",
     "output_type": "stream",
     "text": [
      "\n",
      "100%|██████████| 163/163 [01:00<00:00,  2.71it/s]"
     ]
    },
    {
     "name": "stdout",
     "output_type": "stream",
     "text": [
      "Test Loss: 0.0402\n",
      "{'epoch': 23, 'Train_loss': 0.007739887572824955, 'Test_loss': 0.040172334760427475, 'Train_f1_score': 0.9378183833313747, 'Train_auroc': 0.9877540830189342, 'Test_f1_score': 0.8451497229546676, 'Test_auroc': 0.9623197103175634}\n",
      "Epoch 24/25\n",
      "----------\n"
     ]
    },
    {
     "name": "stderr",
     "output_type": "stream",
     "text": [
      "\n",
      "100%|██████████| 653/653 [04:59<00:00,  2.18it/s]"
     ]
    },
    {
     "name": "stdout",
     "output_type": "stream",
     "text": [
      "Train Loss: 0.0094\n"
     ]
    },
    {
     "name": "stderr",
     "output_type": "stream",
     "text": [
      "\n",
      "100%|██████████| 163/163 [00:59<00:00,  2.75it/s]"
     ]
    },
    {
     "name": "stdout",
     "output_type": "stream",
     "text": [
      "Test Loss: 0.0402\n",
      "{'epoch': 24, 'Train_loss': 0.009436545893549919, 'Test_loss': 0.04023609682917595, 'Train_f1_score': 0.9395694362440709, 'Train_auroc': 0.9879775307124231, 'Test_f1_score': 0.8506346967364874, 'Test_auroc': 0.959732659634605}\n",
      "Epoch 25/25\n",
      "----------\n"
     ]
    },
    {
     "name": "stderr",
     "output_type": "stream",
     "text": [
      "\n",
      "100%|██████████| 653/653 [04:58<00:00,  2.19it/s]"
     ]
    },
    {
     "name": "stdout",
     "output_type": "stream",
     "text": [
      "Train Loss: 0.0144\n"
     ]
    },
    {
     "name": "stderr",
     "output_type": "stream",
     "text": [
      "\n",
      "100%|██████████| 163/163 [00:59<00:00,  2.76it/s]\n"
     ]
    },
    {
     "name": "stdout",
     "output_type": "stream",
     "text": [
      "Test Loss: 0.0331\n",
      "{'epoch': 25, 'Train_loss': 0.014367426745593548, 'Test_loss': 0.03307809680700302, 'Train_f1_score': 0.9063223533306467, 'Train_auroc': 0.9784981711019782, 'Test_f1_score': 0.8401123609025737, 'Test_auroc': 0.9646521096671403}\n",
      "Training complete in 544m 3s\n",
      "Lowest Loss: 0.008766\n"
     ]
    }
   ],
   "source": [
    "epochs = 25\n",
    "bpath = \"../exp/\"\n",
    "\n",
    "# Specify the loss function\n",
    "criterion = torch.nn.MSELoss(reduction='mean')\n",
    "# Specify the optimizer with a lower learning rate\n",
    "optimizer = torch.optim.Adam(model.parameters(), lr=1e-4)\n",
    "\n",
    "# Specify the evalutation metrics\n",
    "metrics = {'f1_score': f1_score, 'auroc': roc_auc_score}\n",
    "\n",
    "trained_model = train_model(model, criterion, dataloaders,\n",
    "                            optimizer, bpath=bpath, metrics=metrics, num_epochs=epochs)\n",
    "\n",
    "torch.save(trained_model, os.path.join(bpath, 'weights.pt'))"
   ]
  }
 ],
 "metadata": {
  "kernelspec": {
   "display_name": "Python 3",
   "language": "python",
   "name": "python3"
  },
  "language_info": {
   "codemirror_mode": {
    "name": "ipython",
    "version": 3
   },
   "file_extension": ".py",
   "mimetype": "text/x-python",
   "name": "python",
   "nbconvert_exporter": "python",
   "pygments_lexer": "ipython3",
   "version": "3.11.8"
  }
 },
 "nbformat": 4,
 "nbformat_minor": 2
}
