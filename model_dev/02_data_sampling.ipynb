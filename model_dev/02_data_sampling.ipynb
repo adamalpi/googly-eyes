{
 "cells": [
  {
   "cell_type": "code",
   "execution_count": 47,
   "metadata": {},
   "outputs": [],
   "source": [
    "from imutils import paths\n",
    "from pathlib import Path \n",
    "from matplotlib import pyplot as plt\n",
    "import numpy as np\n",
    "import argparse\n",
    "import cv2\n",
    "import os\n",
    "import shutil"
   ]
  },
  {
   "cell_type": "code",
   "execution_count": 9,
   "metadata": {},
   "outputs": [],
   "source": [
    "DATA_PATH = Path(\"../data\")\n",
    "SAMPLES_PATH = DATA_PATH / \"samples\"\n",
    "LABELS_PATH = DATA_PATH / \"labels\""
   ]
  },
  {
   "cell_type": "markdown",
   "metadata": {},
   "source": [
    "Subsample the 16k images for fine tuning"
   ]
  },
  {
   "cell_type": "code",
   "execution_count": 29,
   "metadata": {},
   "outputs": [
    {
     "data": {
      "text/plain": [
       "3263"
      ]
     },
     "execution_count": 29,
     "metadata": {},
     "output_type": "execute_result"
    }
   ],
   "source": [
    "# Select all images from real and multiperson for training\n",
    "image_paths = list(paths.list_images(SAMPLES_PATH / \"real\"))\n",
    "\n",
    "\n",
    "np.random.seed(13)\n",
    "\n",
    "# select 50 from multiperson since there are not a lot of variation\n",
    "for directory in (SAMPLES_PATH / \"multiperson\").glob('*'):\n",
    "    sub_paths = list(paths.list_images(directory))\n",
    "    image_paths += list(np.random.choice(sub_paths, size=(50,), replace=False))\n",
    "\n",
    "# select only 10 of each person since there is not a lot of variation\n",
    "for directory in (SAMPLES_PATH / \"male\").glob('*'):\n",
    "    sub_paths = list(paths.list_images(directory))\n",
    "    image_paths += list(np.random.choice(sub_paths, size=(10,), replace=False))\n",
    "\n",
    "for directory in (SAMPLES_PATH / \"female\").glob('*'):\n",
    "    sub_paths = list(paths.list_images(directory))\n",
    "    image_paths += list(np.random.choice(sub_paths, size=(10,), replace=False))"
   ]
  },
  {
   "cell_type": "markdown",
   "metadata": {},
   "source": [
    "Create subsamples folder"
   ]
  },
  {
   "cell_type": "code",
   "execution_count": 35,
   "metadata": {},
   "outputs": [],
   "source": [
    "images_path = DATA_PATH / 'finetune/images'\n",
    "images_path.mkdir(parents=True, exist_ok=True)\n",
    "masks_path = DATA_PATH / 'finetune/masks'\n",
    "masks_path.mkdir(parents=True, exist_ok=True)"
   ]
  },
  {
   "cell_type": "code",
   "execution_count": 50,
   "metadata": {},
   "outputs": [],
   "source": [
    "for image_source in image_paths:\n",
    "    image_source = Path(image_source)\n",
    "    image_target = images_path / f\"{image_source.parent.name}_{image_source.name}\"\n",
    "    shutil.copy(image_source, image_target)\n",
    "\n",
    "    mask_source = LABELS_PATH / str(image_source.relative_to(SAMPLES_PATH))\n",
    "    mask_target = masks_path / f\"{image_source.parent.name}_{image_source.name}\"\n",
    "    shutil.copy(mask_source, mask_target)"
   ]
  }
 ],
 "metadata": {
  "kernelspec": {
   "display_name": "Python 3",
   "language": "python",
   "name": "python3"
  },
  "language_info": {
   "codemirror_mode": {
    "name": "ipython",
    "version": 3
   },
   "file_extension": ".py",
   "mimetype": "text/x-python",
   "name": "python",
   "nbconvert_exporter": "python",
   "pygments_lexer": "ipython3",
   "version": "3.11.8"
  }
 },
 "nbformat": 4,
 "nbformat_minor": 2
}
